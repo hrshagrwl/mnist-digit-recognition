{
 "cells": [
  {
   "cell_type": "markdown",
   "metadata": {},
   "source": [
    "## Image Classification on MNIST Data\n",
    "\n",
    "1) Load the Data"
   ]
  },
  {
   "cell_type": "code",
   "execution_count": 10,
   "metadata": {},
   "outputs": [
    {
     "name": "stdout",
     "output_type": "stream",
     "text": [
      "Train ->  (60000, 784)\n",
      "Test ->  (10000, 784)\n"
     ]
    }
   ],
   "source": [
    "import gzip\n",
    "from mlxtend.data import loadlocal_mnist\n",
    "import numpy as np\n",
    "\n",
    "files = {\n",
    "    \"X\": \"train-images-idx3-ubyte\",\n",
    "    \"y\": \"train-labels-idx1-ubyte\",\n",
    "    \"X_test\": \"t10k-images-idx3-ubyte\",\n",
    "    \"y_test\": \"t10k-labels-idx1-ubyte\"\n",
    "}\n",
    "\n",
    "# Code to load the binary files.\n",
    "# https://github.com/rasbt/mlxtend/blob/master/mlxtend/data/local_mnist.py\n",
    "\n",
    "X, y = loadlocal_mnist(images_path = files['X'], labels_path = files['y'])\n",
    "X_test, y_test = loadlocal_mnist(images_path = files['X_test'], labels_path = files['y_test'])\n",
    "\n",
    "print(\"Train -> \", X.shape)\n",
    "print(\"Test -> \", X_test.shape)"
   ]
  },
  {
   "cell_type": "markdown",
   "metadata": {},
   "source": [
    "Splitting the data into training and test sets"
   ]
  },
  {
   "cell_type": "code",
   "execution_count": 11,
   "metadata": {},
   "outputs": [
    {
     "name": "stdout",
     "output_type": "stream",
     "text": [
      "Training ->  (48000, 784)\n",
      "Validation ->  (12000, 784)\n"
     ]
    }
   ],
   "source": [
    "from sklearn.model_selection import train_test_split\n",
    "\n",
    "X_train, X_val, y_train, y_val = train_test_split(X, y, test_size = 0.2, random_state = 42)\n",
    "\n",
    "print(\"Training -> \", X_train.shape)\n",
    "print(\"Validation -> \", X_val.shape)"
   ]
  },
  {
   "cell_type": "markdown",
   "metadata": {},
   "source": [
    "Visualize the Digits"
   ]
  },
  {
   "cell_type": "code",
   "execution_count": 12,
   "metadata": {},
   "outputs": [
    {
     "data": {
      "image/png": "[encoded data removed]",
      "text/plain": [
       "<Figure size 1440x288 with 5 Axes>"
      ]
     },
     "metadata": {
      "needs_background": "light"
     },
     "output_type": "display_data"
    }
   ],
   "source": [
    "import matplotlib.pyplot as plt\n",
    "\n",
    "plt.figure(figsize = (20, 4))\n",
    "for index, (image, label) in enumerate(zip(X_train[0:5], y_train[0:5])):\n",
    "    plt.subplot(1, 5, index + 1)\n",
    "    plt.imshow(np.reshape(image, (28, 28)), cmap = plt.cm.gray)\n",
    "    plt.title('Training: %i\\n' % label, fontsize = 20)"
   ]
  },
  {
   "cell_type": "markdown",
   "metadata": {},
   "source": [
    "Apply Logistics Regression on the data"
   ]
  },
  {
   "cell_type": "code",
   "execution_count": 13,
   "metadata": {},
   "outputs": [],
   "source": [
    "# Function to store the predicted result into a CSV file as required\n",
    "def createCSV(result, name):\n",
    "    arr = np.zeros((len(result), 10), dtype = 'int32')\n",
    "    arr = np.matrix(arr)\n",
    "    \n",
    "    for index, val in enumerate(result):\n",
    "        arr[index, val] = 1\n",
    "        \n",
    "    np.savetxt(name, arr, fmt = '%i', delimiter = \",\")"
   ]
  },
  {
   "cell_type": "code",
   "execution_count": 15,
   "metadata": {},
   "outputs": [
    {
     "name": "stdout",
     "output_type": "stream",
     "text": [
      "Accuracy of Logistics Regression: 0.9178\n"
     ]
    },
    {
     "name": "stderr",
     "output_type": "stream",
     "text": [
      "/anaconda3/envs/deeplearning/lib/python3.6/site-packages/sklearn/linear_model/logistic.py:757: ConvergenceWarning: lbfgs failed to converge. Increase the number of iterations.\n",
      "  \"of iterations.\", ConvergenceWarning)\n"
     ]
    }
   ],
   "source": [
    "from sklearn.linear_model import LogisticRegression\n",
    "from sklearn.ensemble import RandomForestClassifier\n",
    "from sklearn.metrics import accuracy_score\n",
    "\n",
    "lr = LogisticRegression(n_jobs=1, max_iter=500, multi_class='multinomial', solver='lbfgs')\n",
    "lr.fit(X_train, y_train)\n",
    "y_pred_lr = lr.predict(X_test)\n",
    "acc_lr = accuracy_score(y_pred_lr, y_test)\n",
    "print('Accuracy of Logistics Regression: {}'.format(acc_lr))\n",
    "createCSV(y_pred_lr, \"lr.csv\")"
   ]
  },
  {
   "cell_type": "code",
   "execution_count": 17,
   "metadata": {},
   "outputs": [
    {
     "name": "stdout",
     "output_type": "stream",
     "text": [
      "Accuracy of Random Forest: 0.9704\n"
     ]
    }
   ],
   "source": [
    "rfc = RandomForestClassifier(n_jobs = 1, n_estimators = 500, max_features = 'auto', random_state = 42)\n",
    "rfc.fit(X_train, y_train)\n",
    "y_pred_rf = rfc.predict(X_test)\n",
    "acc_rf = accuracy_score(y_test, y_pred_rf)\n",
    "print('Accuracy of Random Forest: {}'.format(acc_rf))\n",
    "createCSV(y_pred_rf, \"rf.csv\")"
   ]
  },
  {
   "cell_type": "code",
   "execution_count": null,
   "metadata": {},
   "outputs": [],
   "source": []
  }
 ],
 "metadata": {
  "kernelspec": {
   "display_name": "Python [conda env:deeplearning]",
   "language": "python",
   "name": "conda-env-deeplearning-py"
  },
  "language_info": {
   "codemirror_mode": {
    "name": "ipython",
    "version": 3
   },
   "file_extension": ".py",
   "mimetype": "text/x-python",
   "name": "python",
   "nbconvert_exporter": "python",
   "pygments_lexer": "ipython3",
   "version": "3.6.6"
  }
 },
 "nbformat": 4,
 "nbformat_minor": 2
}
